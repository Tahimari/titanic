{
 "cells": [
  {
   "cell_type": "markdown",
   "metadata": {},
   "source": [
    "# Titanic data preprocessing\n",
    "## Kamil Misiak\n",
    "\n",
    "W tym sprawozdaniu porusze temat czyszczenie i przygotowania danych do analizy."
   ]
  },
  {
   "cell_type": "markdown",
   "metadata": {},
   "source": [
    "### Krok 1: Załadowanie zbioru danych"
   ]
  },
  {
   "cell_type": "code",
   "execution_count": 4,
   "metadata": {},
   "outputs": [
    {
     "name": "stdout",
     "output_type": "stream",
     "text": [
      "     PassengerId  Survived  Pclass  \\\n",
      "0              1         0       3   \n",
      "1              2         1       1   \n",
      "2              3         1       3   \n",
      "3              4         1       1   \n",
      "4              5         0       3   \n",
      "..           ...       ...     ...   \n",
      "887          888         1       1   \n",
      "888          889         0       3   \n",
      "889          890         1       1   \n",
      "890          891         0       3   \n",
      "891         1000         1       1   \n",
      "\n",
      "                                                  Name     Sex  Age  SibSp  \\\n",
      "0                              Braund, Mr. Owen Harris    male   22      1   \n",
      "1    Cumings, Mrs. John Bradley (Florence Briggs Th...  female   38      1   \n",
      "2                               Heikkinen, Miss. Laina  female   26      0   \n",
      "3         Futrelle, Mrs. Jacques Heath (Lily May Peel)  female   35      1   \n",
      "4                             Allen, Mr. William Henry    male   35      0   \n",
      "..                                                 ...     ...  ...    ...   \n",
      "887                       Graham, Miss. Margaret Edith  female   19      0   \n",
      "888           Johnston, Miss. Catherine Helen \"Carrie\"  female  NaN      1   \n",
      "889                              Behr, Mr. Karl Howell    male   26      0   \n",
      "890                                Dooley, Mr. Patrick    male   32      0   \n",
      "891                        Mr. Frederick Maxfield Hoyt    male   38      1   \n",
      "\n",
      "     Parch            Ticket     Fare Cabin Embarked     ship  \n",
      "0        0         A/5 21171     7,25   NaN        S  Titanic  \n",
      "1        0          PC 17599  71,2833   C85        C  Titanic  \n",
      "2        0  STON/O2. 3101282    7,925   NaN        S  Titanic  \n",
      "3        0            113803     53,1  C123        S  Titanic  \n",
      "4        0            373450     8,05   NaN        S  Titanic  \n",
      "..     ...               ...      ...   ...      ...      ...  \n",
      "887      0            112053       30   B42        S  Titanic  \n",
      "888      2        W./C. 6607    23,45   NaN        S  Titanic  \n",
      "889      0            111369       30  C148        C  Titanic  \n",
      "890      0            370376     7,75   NaN        Q  Titanic  \n",
      "891      0             19943       90   C93        S  Titanic  \n",
      "\n",
      "[892 rows x 13 columns]\n"
     ]
    }
   ],
   "source": [
    "import pandas as pd\n",
    "import numpy as np\n",
    "\n",
    "data = pd.read_table('./data/TitanicMess.tsv', sep='\\t', header=0)\n",
    "print(data)"
   ]
  },
  {
   "cell_type": "code",
   "execution_count": null,
   "metadata": {},
   "outputs": [],
   "source": []
  },
  {
   "cell_type": "code",
   "execution_count": null,
   "metadata": {},
   "outputs": [],
   "source": []
  }
 ],
 "metadata": {
  "kernelspec": {
   "display_name": "Python 3",
   "language": "python",
   "name": "python3"
  },
  "language_info": {
   "codemirror_mode": {
    "name": "ipython",
    "version": 3
   },
   "file_extension": ".py",
   "mimetype": "text/x-python",
   "name": "python",
   "nbconvert_exporter": "python",
   "pygments_lexer": "ipython3",
   "version": "3.8.5"
  }
 },
 "nbformat": 4,
 "nbformat_minor": 4
}